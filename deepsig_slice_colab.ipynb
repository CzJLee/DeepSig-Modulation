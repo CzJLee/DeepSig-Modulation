{
  "nbformat": 4,
  "nbformat_minor": 0,
  "metadata": {
    "language_info": {
      "codemirror_mode": {
        "name": "ipython",
        "version": 3
      },
      "file_extension": ".py",
      "mimetype": "text/x-python",
      "name": "python",
      "nbconvert_exporter": "python",
      "pygments_lexer": "ipython3",
      "version": "3.8.10"
    },
    "orig_nbformat": 2,
    "kernelspec": {
      "name": "python3810jvsc74a57bd07e85ec9bf098c5427e45e2f632dcd4eeff803b007e1abd287d600879388709c1",
      "display_name": "Python 3.8.10 64-bit"
    },
    "metadata": {
      "interpreter": {
        "hash": "7e85ec9bf098c5427e45e2f632dcd4eeff803b007e1abd287d600879388709c1"
      }
    },
    "colab": {
      "name": "deepsig_slice_colab.ipynb",
      "provenance": [],
      "collapsed_sections": [],
      "include_colab_link": true
    },
    "accelerator": "GPU"
  },
  "cells": [
    {
      "cell_type": "markdown",
      "metadata": {
        "id": "view-in-github",
        "colab_type": "text"
      },
      "source": [
        "<a href=\"https://colab.research.google.com/github/CzJLee/DeepSig-Modulation/blob/master/deepsig_slice_colab.ipynb\" target=\"_parent\"><img src=\"https://colab.research.google.com/assets/colab-badge.svg\" alt=\"Open In Colab\"/></a>"
      ]
    },
    {
      "cell_type": "code",
      "metadata": {
        "id": "9TG_l8gvwCj3",
        "colab": {
          "base_uri": "https://localhost:8080/"
        },
        "outputId": "c15e9512-f616-4dc3-c16b-7f729e18ffd9"
      },
      "source": [
        "!git clone https://github.com/CzJLee/DeepSig-Modulation\n",
        "!cp DeepSig-Modulation/signal_processing.py signal_processing.py"
      ],
      "execution_count": 1,
      "outputs": [
        {
          "output_type": "stream",
          "text": [
            "Cloning into 'DeepSig-Modulation'...\n",
            "remote: Enumerating objects: 52, done.\u001b[K\n",
            "remote: Counting objects: 100% (52/52), done.\u001b[K\n",
            "remote: Compressing objects: 100% (32/32), done.\u001b[K\n",
            "remote: Total 52 (delta 19), reused 41 (delta 12), pack-reused 0\u001b[K\n",
            "Unpacking objects: 100% (52/52), done.\n"
          ],
          "name": "stdout"
        }
      ]
    },
    {
      "cell_type": "code",
      "metadata": {
        "id": "CK5P40TQv-TN"
      },
      "source": [
        "import h5py\n",
        "import os\n",
        "import numpy as np\n",
        "import signal_processing as sp\n",
        "import matplotlib.pyplot as plt\n",
        "import time\n",
        "import sklearn\n",
        "from tensorflow import keras\n",
        "from tensorflow.keras import layers\n",
        "from fastprogress.fastprogress import progress_bar\n",
        "from sys import getsizeof"
      ],
      "execution_count": 2,
      "outputs": []
    },
    {
      "cell_type": "code",
      "metadata": {
        "colab": {
          "base_uri": "https://localhost:8080/"
        },
        "id": "bu6fS9lnwkdD",
        "outputId": "f31c1769-2799-4541-d379-ef057f9354ab"
      },
      "source": [
        "from google.colab import drive\n",
        "drive.mount('/content/drive')"
      ],
      "execution_count": 3,
      "outputs": [
        {
          "output_type": "stream",
          "text": [
            "Mounted at /content/drive\n"
          ],
          "name": "stdout"
        }
      ]
    },
    {
      "cell_type": "code",
      "metadata": {
        "id": "6AiCdQ0Gee66"
      },
      "source": [
        "# Get location of DEEPSIG DATASET: RADIOML 2018.01A dataset\n",
        "current_working_directory = os.getcwd()\n",
        "file_name = os.path.join(current_working_directory, \"drive/MyDrive/DeepSig-Dataset-2018/GOLD_XYZ_OSC.0001_1024.hdf5\")"
      ],
      "execution_count": 4,
      "outputs": []
    },
    {
      "cell_type": "code",
      "metadata": {
        "id": "dplf_bG-iBrQ"
      },
      "source": [
        "# Check if shuffled files already exist\n",
        "if os.path.exists(os.path.join(current_working_directory, \"drive/MyDrive/DeepSig-Dataset-2018/fft_dataset_shuffled.npy\")):\n",
        "  fft_dataset_shuffled_path = os.path.join(current_working_directory, \"drive/MyDrive/DeepSig-Dataset-2018/fft_dataset_shuffled.npy\")\n",
        "  labels_shuffled_path = os.path.join(current_working_directory, \"drive/MyDrive/DeepSig-Dataset-2018/labels_shuffled.npy\")\n",
        "  \n",
        "  fft_dataset_shuffled = np.load(fft_dataset_shuffled_path, mmap_mode=\"r+\")\n",
        "  labels_shuffled = np.load(labels_shuffled_path, mmap_mode=\"r+\")"
      ],
      "execution_count": 5,
      "outputs": []
    },
    {
      "cell_type": "code",
      "metadata": {
        "id": "Pm5IvdFgv-TP",
        "colab": {
          "base_uri": "https://localhost:8080/"
        },
        "outputId": "efcf0cb6-dfb9-4600-9f10-bf23e495b51f"
      },
      "source": [
        "# Load File\n",
        "start = time.time()\n",
        "print(\"Loading dataset...\")\n",
        "f = h5py.File(file_name, 'r')\n",
        "\n",
        "# Get the dataset from each key \n",
        "x = f[\"X\"] # Dataset\n",
        "y = f[\"Y\"] # Labels\n",
        "z = f[\"Z\"] # SNR Value\n",
        "\n",
        "print(f\"Dataset loaded in {time.time() - start:.6f} seconds.\")"
      ],
      "execution_count": 4,
      "outputs": [
        {
          "output_type": "stream",
          "text": [
            "Loading dataset...\n",
            "Dataset loaded in 0.167363 seconds.\n"
          ],
          "name": "stdout"
        }
      ]
    },
    {
      "cell_type": "code",
      "metadata": {
        "id": "J9bBXDAOv-TQ",
        "colab": {
          "base_uri": "https://localhost:8080/",
          "height": 606
        },
        "outputId": "c40ac437-81d8-46f6-baf7-0138ea38ff8a"
      },
      "source": [
        "# It is significantly faster to reshape an array than to concatenate multiple arrays. \n",
        "# Start be creating an empty array of a known size, where the first axis is the slices of the dataset we are keeping\n",
        "# Then reassign the elements of this empty array to be the slices of the larger array\n",
        "# Finally, reshape the array to the final shape\n",
        "\n",
        "print(\"Slicing dataset with SNR >= 0\")\n",
        "start = time.time()\n",
        "\n",
        "# For our dataset, x, we want to pick out the data where the SNR is greater than or equal to zero\n",
        "# There are 65,536 such samples for each of the 24 modulation types\n",
        "# The datatype of the X dataset is float32. This is important.\n",
        "# While the original datatype of Y is int64, use int16 to save a tiny bit of memory.\n",
        "dataset_slices = np.empty((24, 65536, 1024, 2), dtype=np.float32)\n",
        "labels_slices = np.empty((24, 65536, 24), dtype = np.int16)\n",
        "\n",
        "# We can then iterate over each of the modulation types\n",
        "# The numbers used in these are specifically chosen to pick out only SNR >= 0 values. \n",
        "for i in progress_bar(range(24)):\n",
        "    n = 106496\n",
        "    start = 40960+n*i\n",
        "    end = 106496+n*i\n",
        "    dataset_slices[i] = np.array(x[start:end])\n",
        "    labels_slices[i] = np.array(y[start:end])\n",
        "\n",
        "# We can then reshape this array to the final shape, which is signfically faster than concatenation\n",
        "dataset = np.reshape(dataset_slices, (1572864, 1024, 2))\n",
        "labels = np.reshape(labels_slices, (1572864, 24))\n",
        "\n",
        "# Remove slices from memory\n",
        "del dataset_slices\n",
        "del labels_slices\n",
        "\n",
        "print(f\"Datasets created in {time.time() - start:.6f} seconds.\")\n",
        "\n",
        "# For fun, I timed the process of this method versus the old method using concatenation, and it is about 3 times faster. Plus, we get to see the progress, whereas concatenation just runs with no progress indicators. Reshaping is nearly instant. "
      ],
      "execution_count": 6,
      "outputs": [
        {
          "output_type": "stream",
          "text": [
            "Slicing dataset with SNR >= 0\n"
          ],
          "name": "stdout"
        },
        {
          "output_type": "error",
          "ename": "OutOfMemoryError",
          "evalue": "ignored",
          "traceback": [
            "\u001b[0;31m---------------------------------------------------------------------------\u001b[0m",
            "\u001b[0;31mOutOfMemoryError\u001b[0m                          Traceback (most recent call last)",
            "\u001b[0;32m<ipython-input-6-82b06ac80f5c>\u001b[0m in \u001b[0;36m<module>\u001b[0;34m()\u001b[0m\n\u001b[1;32m     11\u001b[0m \u001b[0;31m# The datatype of the X dataset is float32. This is important.\u001b[0m\u001b[0;34m\u001b[0m\u001b[0;34m\u001b[0m\u001b[0;34m\u001b[0m\u001b[0m\n\u001b[1;32m     12\u001b[0m \u001b[0;31m# While the original datatype of Y is int64, use int16 to save a tiny bit of memory.\u001b[0m\u001b[0;34m\u001b[0m\u001b[0;34m\u001b[0m\u001b[0;34m\u001b[0m\u001b[0m\n\u001b[0;32m---> 13\u001b[0;31m \u001b[0mdataset_slices\u001b[0m \u001b[0;34m=\u001b[0m \u001b[0mnp\u001b[0m\u001b[0;34m.\u001b[0m\u001b[0mempty\u001b[0m\u001b[0;34m(\u001b[0m\u001b[0;34m(\u001b[0m\u001b[0;36m24\u001b[0m\u001b[0;34m,\u001b[0m \u001b[0;36m65536\u001b[0m\u001b[0;34m,\u001b[0m \u001b[0;36m1024\u001b[0m\u001b[0;34m,\u001b[0m \u001b[0;36m2\u001b[0m\u001b[0;34m)\u001b[0m\u001b[0;34m,\u001b[0m \u001b[0mdtype\u001b[0m\u001b[0;34m=\u001b[0m\u001b[0mnp\u001b[0m\u001b[0;34m.\u001b[0m\u001b[0mfloat32\u001b[0m\u001b[0;34m)\u001b[0m\u001b[0;34m\u001b[0m\u001b[0;34m\u001b[0m\u001b[0m\n\u001b[0m\u001b[1;32m     14\u001b[0m \u001b[0mlabels_slices\u001b[0m \u001b[0;34m=\u001b[0m \u001b[0mnp\u001b[0m\u001b[0;34m.\u001b[0m\u001b[0mempty\u001b[0m\u001b[0;34m(\u001b[0m\u001b[0;34m(\u001b[0m\u001b[0;36m24\u001b[0m\u001b[0;34m,\u001b[0m \u001b[0;36m65536\u001b[0m\u001b[0;34m,\u001b[0m \u001b[0;36m24\u001b[0m\u001b[0;34m)\u001b[0m\u001b[0;34m,\u001b[0m \u001b[0mdtype\u001b[0m \u001b[0;34m=\u001b[0m \u001b[0mnp\u001b[0m\u001b[0;34m.\u001b[0m\u001b[0mint16\u001b[0m\u001b[0;34m)\u001b[0m\u001b[0;34m\u001b[0m\u001b[0;34m\u001b[0m\u001b[0m\n\u001b[1;32m     15\u001b[0m \u001b[0;34m\u001b[0m\u001b[0m\n",
            "\u001b[0;32m/usr/local/lib/python3.7/dist-packages/cupy/creation/basic.py\u001b[0m in \u001b[0;36mempty\u001b[0;34m(shape, dtype, order)\u001b[0m\n\u001b[1;32m     20\u001b[0m \u001b[0;34m\u001b[0m\u001b[0m\n\u001b[1;32m     21\u001b[0m     \"\"\"\n\u001b[0;32m---> 22\u001b[0;31m     \u001b[0;32mreturn\u001b[0m \u001b[0mcupy\u001b[0m\u001b[0;34m.\u001b[0m\u001b[0mndarray\u001b[0m\u001b[0;34m(\u001b[0m\u001b[0mshape\u001b[0m\u001b[0;34m,\u001b[0m \u001b[0mdtype\u001b[0m\u001b[0;34m,\u001b[0m \u001b[0morder\u001b[0m\u001b[0;34m=\u001b[0m\u001b[0morder\u001b[0m\u001b[0;34m)\u001b[0m\u001b[0;34m\u001b[0m\u001b[0;34m\u001b[0m\u001b[0m\n\u001b[0m\u001b[1;32m     23\u001b[0m \u001b[0;34m\u001b[0m\u001b[0m\n\u001b[1;32m     24\u001b[0m \u001b[0;34m\u001b[0m\u001b[0m\n",
            "\u001b[0;32mcupy/core/core.pyx\u001b[0m in \u001b[0;36mcupy.core.core.ndarray.__init__\u001b[0;34m()\u001b[0m\n",
            "\u001b[0;32mcupy/cuda/memory.pyx\u001b[0m in \u001b[0;36mcupy.cuda.memory.alloc\u001b[0;34m()\u001b[0m\n",
            "\u001b[0;32mcupy/cuda/memory.pyx\u001b[0m in \u001b[0;36mcupy.cuda.memory.MemoryPool.malloc\u001b[0;34m()\u001b[0m\n",
            "\u001b[0;32mcupy/cuda/memory.pyx\u001b[0m in \u001b[0;36mcupy.cuda.memory.MemoryPool.malloc\u001b[0;34m()\u001b[0m\n",
            "\u001b[0;32mcupy/cuda/memory.pyx\u001b[0m in \u001b[0;36mcupy.cuda.memory.SingleDeviceMemoryPool.malloc\u001b[0;34m()\u001b[0m\n",
            "\u001b[0;32mcupy/cuda/memory.pyx\u001b[0m in \u001b[0;36mcupy.cuda.memory.SingleDeviceMemoryPool._malloc\u001b[0;34m()\u001b[0m\n",
            "\u001b[0;32mcupy/cuda/memory.pyx\u001b[0m in \u001b[0;36mcupy.cuda.memory._try_malloc\u001b[0;34m()\u001b[0m\n",
            "\u001b[0;31mOutOfMemoryError\u001b[0m: Out of memory allocating 12,884,901,888 bytes (allocated so far: 12,960,399,360 bytes)."
          ]
        }
      ]
    },
    {
      "cell_type": "code",
      "metadata": {
        "id": "VOLPOBSVv-TR"
      },
      "source": [
        "# The next step is to convert our dataset to complex values.\n",
        "# We can use our empty dataset method to speed things up to avoid concatenation\n",
        "print(\"Converting dataset to complex values...\")\n",
        "start = time.time()\n",
        "\n",
        "dataset_complex = np.empty((len(dataset), 1024), dtype = np.complex64)\n",
        "for i in progress_bar(range(len(dataset))):\n",
        "    # Flatten the dataset, to be in I/Q format that our signal_to_complex function expects\n",
        "    dataset_complex[i] = sp.signal_to_complex(np.reshape(dataset[i], (-1, )))\n",
        "\n",
        "print(f\"Converted dataset to complex values in {time.time() - start:.6f} seconds.\")\n",
        "\n",
        "# We can then remove the original dataset from memory to save precious memory\n",
        "del dataset"
      ],
      "execution_count": null,
      "outputs": []
    },
    {
      "cell_type": "code",
      "metadata": {
        "id": "bIuyA6gbv-TS"
      },
      "source": [
        "# Now we need to take a FFT of the complex dataset\n",
        "print(\"Calculating FFT of dataset...\")\n",
        "start = time.time()\n",
        "\n",
        "fft_dataset = np.empty((len(dataset_complex), 1024), dtype = np.float64)\n",
        "for i in progress_bar(range(len(dataset_complex))):\n",
        "    fft_dataset[i] = sp.fft_signal(dataset_complex[i])\n",
        "\n",
        "print(f\"Completed FFT calculaations in {time.time() - start:.6f} seconds.\")\n",
        "\n",
        "# Remove the complex dataset from memory\n",
        "del dataset_complex"
      ],
      "execution_count": null,
      "outputs": []
    },
    {
      "cell_type": "code",
      "metadata": {
        "id": "tsQh5y8cv-TT"
      },
      "source": [
        "# Randomly shuffle dataset\n",
        "shuffler = np.random.permutation(len(labels))\n",
        "fft_dataset_shuffled = np.empty(shape = np.shape(fft_dataset), dtype = fft_dataset.dtype)\n",
        "for i, j in enumerate(progress_bar(shuffler)):\n",
        "    fft_dataset_shuffled[i] = fft_dataset[j]\n",
        "    labels_shuffled[i] = labels[j]\n",
        "\n",
        "del fft_dataset\n",
        "del labels"
      ],
      "execution_count": null,
      "outputs": []
    },
    {
      "cell_type": "code",
      "metadata": {
        "id": "I6QgxTFVwBO0"
      },
      "source": [
        "# Save shuffled FFT datasets\n",
        "save_path = os.path.join(current_working_directory, \"drive/MyDrive/DeepSig-Dataset-2018/\")\n",
        "np.save(os.path.join(save_path, \"fft_dataset_shuffled2.npy\"), fft_dataset_shuffled)\n",
        "np.save(os.path.join(save_path, \"labels_shuffled2.npy\"), labels_shuffled)"
      ],
      "execution_count": null,
      "outputs": []
    },
    {
      "cell_type": "code",
      "metadata": {
        "id": "Gxu0FtRwfpHP"
      },
      "source": [
        "# Build CNN Model following DeepSig model\n",
        "\n",
        "inputs = keras.Input(shape=(1024, 1))\n",
        "x = layers.Conv1D(filters=64, kernel_size=3, activation='relu')(inputs)\n",
        "x = layers.MaxPooling1D(pool_size=2)(x)\n",
        "x = layers.Conv1D(filters=64, kernel_size=3, activation='relu')(x)\n",
        "x = layers.MaxPooling1D(pool_size=2)(x)\n",
        "x = layers.Conv1D(filters=64, kernel_size=3, activation='relu')(x)\n",
        "x = layers.MaxPooling1D(pool_size=2)(x)\n",
        "x = layers.Conv1D(filters=64, kernel_size=3, activation='relu')(x)\n",
        "x = layers.MaxPooling1D(pool_size=2)(x)\n",
        "x = layers.Conv1D(filters=64, kernel_size=3, activation='relu')(x)\n",
        "x = layers.MaxPooling1D(pool_size=2)(x)\n",
        "x = layers.Conv1D(filters=64, kernel_size=3, activation='relu')(x)\n",
        "x = layers.MaxPooling1D(pool_size=2)(x)\n",
        "x = layers.Conv1D(filters=64, kernel_size=3, activation='relu')(x)\n",
        "x = layers.Flatten()(x)\n",
        "x = layers.Dense(128)(x)\n",
        "x = layers.Dense(128)(x)\n",
        "outputs = layers.Dense(24, activation='softmax')(x)\n",
        "\n",
        "model = keras.Model(inputs=inputs, outputs=outputs)"
      ],
      "execution_count": 6,
      "outputs": []
    },
    {
      "cell_type": "code",
      "metadata": {
        "colab": {
          "base_uri": "https://localhost:8080/"
        },
        "id": "iZNtoP9QgTJ9",
        "outputId": "c41140a5-ba34-40eb-c9b4-d6b692287051"
      },
      "source": [
        "model.summary()"
      ],
      "execution_count": 7,
      "outputs": [
        {
          "output_type": "stream",
          "text": [
            "Model: \"model\"\n",
            "_________________________________________________________________\n",
            "Layer (type)                 Output Shape              Param #   \n",
            "=================================================================\n",
            "input_1 (InputLayer)         [(None, 1024, 1)]         0         \n",
            "_________________________________________________________________\n",
            "conv1d (Conv1D)              (None, 1022, 64)          256       \n",
            "_________________________________________________________________\n",
            "max_pooling1d (MaxPooling1D) (None, 511, 64)           0         \n",
            "_________________________________________________________________\n",
            "conv1d_1 (Conv1D)            (None, 509, 64)           12352     \n",
            "_________________________________________________________________\n",
            "max_pooling1d_1 (MaxPooling1 (None, 254, 64)           0         \n",
            "_________________________________________________________________\n",
            "conv1d_2 (Conv1D)            (None, 252, 64)           12352     \n",
            "_________________________________________________________________\n",
            "max_pooling1d_2 (MaxPooling1 (None, 126, 64)           0         \n",
            "_________________________________________________________________\n",
            "conv1d_3 (Conv1D)            (None, 124, 64)           12352     \n",
            "_________________________________________________________________\n",
            "max_pooling1d_3 (MaxPooling1 (None, 62, 64)            0         \n",
            "_________________________________________________________________\n",
            "conv1d_4 (Conv1D)            (None, 60, 64)            12352     \n",
            "_________________________________________________________________\n",
            "max_pooling1d_4 (MaxPooling1 (None, 30, 64)            0         \n",
            "_________________________________________________________________\n",
            "conv1d_5 (Conv1D)            (None, 28, 64)            12352     \n",
            "_________________________________________________________________\n",
            "max_pooling1d_5 (MaxPooling1 (None, 14, 64)            0         \n",
            "_________________________________________________________________\n",
            "conv1d_6 (Conv1D)            (None, 12, 64)            12352     \n",
            "_________________________________________________________________\n",
            "flatten (Flatten)            (None, 768)               0         \n",
            "_________________________________________________________________\n",
            "dense (Dense)                (None, 128)               98432     \n",
            "_________________________________________________________________\n",
            "dense_1 (Dense)              (None, 128)               16512     \n",
            "_________________________________________________________________\n",
            "dense_2 (Dense)              (None, 24)                3096      \n",
            "=================================================================\n",
            "Total params: 192,408\n",
            "Trainable params: 192,408\n",
            "Non-trainable params: 0\n",
            "_________________________________________________________________\n"
          ],
          "name": "stdout"
        }
      ]
    },
    {
      "cell_type": "code",
      "metadata": {
        "id": "O8-goCWBgt7q"
      },
      "source": [
        "model.compile(loss='categorical_crossentropy', optimizer='adam', metrics=['accuracy'])\n",
        "\n",
        "# Define the callbacks and save the best model to a new file\n",
        "callbacks = [keras.callbacks.ModelCheckpoint(\n",
        "        filepath='models/cnn_test.keras', save_best_only=True, monitor='val_loss'\n",
        "      ),\n",
        "      keras.callbacks.EarlyStopping(\n",
        "        monitor=\"val_loss\", min_delta = 0.01, patience = 5, verbose = 1, restore_best_weights = True\n",
        "    )]"
      ],
      "execution_count": 8,
      "outputs": []
    },
    {
      "cell_type": "code",
      "metadata": {
        "colab": {
          "base_uri": "https://localhost:8080/"
        },
        "id": "QmkwBNb2hGds",
        "outputId": "74f80c66-711a-47de-e3f5-cbf78db36ec1"
      },
      "source": [
        "# Time the time it takes to train the model\n",
        "start = time.time()\n",
        "\n",
        "history = model.fit(fft_dataset_shuffled, labels_shuffled, epochs=30, batch_size = 256, validation_split = 0.3, callbacks=callbacks)\n",
        "\n",
        "print(\"--- Model trained in %s seconds ---\" % (time.time() - start))"
      ],
      "execution_count": 9,
      "outputs": [
        {
          "output_type": "stream",
          "text": [
            "Epoch 1/30\n",
            "4301/4301 [==============================] - 252s 51ms/step - loss: 1.8909 - accuracy: 0.3359 - val_loss: 1.7337 - val_accuracy: 0.3908\n",
            "Epoch 2/30\n",
            "4301/4301 [==============================] - 150s 35ms/step - loss: 1.6776 - accuracy: 0.4013 - val_loss: 1.6692 - val_accuracy: 0.4067\n",
            "Epoch 3/30\n",
            "4301/4301 [==============================] - 148s 34ms/step - loss: 1.6440 - accuracy: 0.4096 - val_loss: 1.6314 - val_accuracy: 0.4136\n",
            "Epoch 4/30\n",
            "4301/4301 [==============================] - 148s 34ms/step - loss: 1.6286 - accuracy: 0.4147 - val_loss: 1.6199 - val_accuracy: 0.4165\n",
            "Epoch 5/30\n",
            "4301/4301 [==============================] - 148s 34ms/step - loss: 1.6186 - accuracy: 0.4179 - val_loss: 1.6175 - val_accuracy: 0.4200\n",
            "Epoch 6/30\n",
            "4301/4301 [==============================] - 148s 34ms/step - loss: 1.6109 - accuracy: 0.4213 - val_loss: 1.6116 - val_accuracy: 0.4223\n",
            "Epoch 7/30\n",
            "4301/4301 [==============================] - 148s 34ms/step - loss: 1.6044 - accuracy: 0.4238 - val_loss: 1.6023 - val_accuracy: 0.4239\n",
            "Epoch 8/30\n",
            "4301/4301 [==============================] - 148s 34ms/step - loss: 1.5983 - accuracy: 0.4265 - val_loss: 1.6049 - val_accuracy: 0.4270\n",
            "Epoch 9/30\n",
            "4301/4301 [==============================] - 148s 34ms/step - loss: 1.5934 - accuracy: 0.4287 - val_loss: 1.6043 - val_accuracy: 0.4233\n",
            "Epoch 10/30\n",
            "4301/4301 [==============================] - 147s 34ms/step - loss: 1.5882 - accuracy: 0.4313 - val_loss: 1.6010 - val_accuracy: 0.4269\n",
            "Epoch 11/30\n",
            "4301/4301 [==============================] - 147s 34ms/step - loss: 1.5837 - accuracy: 0.4336 - val_loss: 1.5775 - val_accuracy: 0.4367\n",
            "Epoch 12/30\n",
            "4301/4301 [==============================] - 147s 34ms/step - loss: 1.5797 - accuracy: 0.4357 - val_loss: 1.5742 - val_accuracy: 0.4354\n",
            "Epoch 13/30\n",
            "4301/4301 [==============================] - 147s 34ms/step - loss: 1.5764 - accuracy: 0.4367 - val_loss: 1.5802 - val_accuracy: 0.4366\n",
            "Epoch 14/30\n",
            "4301/4301 [==============================] - 147s 34ms/step - loss: 1.5741 - accuracy: 0.4381 - val_loss: 1.5700 - val_accuracy: 0.4414\n",
            "Epoch 15/30\n",
            "4301/4301 [==============================] - 165s 38ms/step - loss: 1.5714 - accuracy: 0.4391 - val_loss: 1.5763 - val_accuracy: 0.4376\n",
            "Epoch 16/30\n",
            "4301/4301 [==============================] - 147s 34ms/step - loss: 1.5700 - accuracy: 0.4396 - val_loss: 1.5754 - val_accuracy: 0.4385\n",
            "Restoring model weights from the end of the best epoch.\n",
            "Epoch 00016: early stopping\n",
            "--- Model trained in 2693.0853707790375 seconds ---\n"
          ],
          "name": "stdout"
        }
      ]
    },
    {
      "cell_type": "code",
      "metadata": {
        "colab": {
          "base_uri": "https://localhost:8080/",
          "height": 17
        },
        "id": "DAf-ZUh4rNW5",
        "outputId": "58e4aaf6-3c2c-4cfa-84e6-07b530ee2a5d"
      },
      "source": [
        "from google.colab import files\n",
        "files.download('models/cnn_test.keras') "
      ],
      "execution_count": 10,
      "outputs": [
        {
          "output_type": "display_data",
          "data": {
            "application/javascript": [
              "\n",
              "    async function download(id, filename, size) {\n",
              "      if (!google.colab.kernel.accessAllowed) {\n",
              "        return;\n",
              "      }\n",
              "      const div = document.createElement('div');\n",
              "      const label = document.createElement('label');\n",
              "      label.textContent = `Downloading \"${filename}\": `;\n",
              "      div.appendChild(label);\n",
              "      const progress = document.createElement('progress');\n",
              "      progress.max = size;\n",
              "      div.appendChild(progress);\n",
              "      document.body.appendChild(div);\n",
              "\n",
              "      const buffers = [];\n",
              "      let downloaded = 0;\n",
              "\n",
              "      const channel = await google.colab.kernel.comms.open(id);\n",
              "      // Send a message to notify the kernel that we're ready.\n",
              "      channel.send({})\n",
              "\n",
              "      for await (const message of channel.messages) {\n",
              "        // Send a message to notify the kernel that we're ready.\n",
              "        channel.send({})\n",
              "        if (message.buffers) {\n",
              "          for (const buffer of message.buffers) {\n",
              "            buffers.push(buffer);\n",
              "            downloaded += buffer.byteLength;\n",
              "            progress.value = downloaded;\n",
              "          }\n",
              "        }\n",
              "      }\n",
              "      const blob = new Blob(buffers, {type: 'application/binary'});\n",
              "      const a = document.createElement('a');\n",
              "      a.href = window.URL.createObjectURL(blob);\n",
              "      a.download = filename;\n",
              "      div.appendChild(a);\n",
              "      a.click();\n",
              "      div.remove();\n",
              "    }\n",
              "  "
            ],
            "text/plain": [
              "<IPython.core.display.Javascript object>"
            ]
          },
          "metadata": {
            "tags": []
          }
        },
        {
          "output_type": "display_data",
          "data": {
            "application/javascript": [
              "download(\"download_516bbaa6-db44-4f66-aeae-0ff4ecb22551\", \"cnn_test.keras\", 2412136)"
            ],
            "text/plain": [
              "<IPython.core.display.Javascript object>"
            ]
          },
          "metadata": {
            "tags": []
          }
        }
      ]
    },
    {
      "cell_type": "code",
      "metadata": {
        "id": "ac63bzNBsrvo"
      },
      "source": [
        ""
      ],
      "execution_count": null,
      "outputs": []
    }
  ]
}