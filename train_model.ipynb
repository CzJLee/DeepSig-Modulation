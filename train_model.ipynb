{
 "metadata": {
  "language_info": {
   "codemirror_mode": {
    "name": "ipython",
    "version": 3
   },
   "file_extension": ".py",
   "mimetype": "text/x-python",
   "name": "python",
   "nbconvert_exporter": "python",
   "pygments_lexer": "ipython3",
   "version": "3.8.10"
  },
  "orig_nbformat": 2,
  "kernelspec": {
   "name": "python3810jvsc74a57bd07e85ec9bf098c5427e45e2f632dcd4eeff803b007e1abd287d600879388709c1",
   "display_name": "Python 3.8.10 64-bit"
  },
  "metadata": {
   "interpreter": {
    "hash": "7e85ec9bf098c5427e45e2f632dcd4eeff803b007e1abd287d600879388709c1"
   }
  }
 },
 "nbformat": 4,
 "nbformat_minor": 2,
 "cells": [
  {
   "cell_type": "code",
   "execution_count": 1,
   "metadata": {},
   "outputs": [],
   "source": [
    "import os\n",
    "import numpy as np\n",
    "import signal_processing as sp\n",
    "import matplotlib.pyplot as plt\n",
    "import time\n",
    "import sklearn\n",
    "import tensorflow as tf\n",
    "import pickle\n",
    "from tensorflow import keras\n",
    "from tensorflow.keras import layers\n",
    "from sys import getsizeof"
   ]
  },
  {
   "cell_type": "code",
   "execution_count": 2,
   "metadata": {},
   "outputs": [],
   "source": [
    "# Import datasets\n",
    "dataset_directory = os.path.join(os.getcwd(), \"DeepSig-Dataset-2018\")\n",
    "\n",
    "# Use these to load the entire dataset into memory\n",
    "fft_dataset_train = np.load(os.path.join(dataset_directory, \"fft_dataset_train.npy\"))\n",
    "fft_dataset_val = np.load(os.path.join(dataset_directory, \"fft_dataset_val.npy\"))\n",
    "fft_dataset_test = np.load(os.path.join(dataset_directory, \"fft_dataset_test.npy\"))\n",
    "\n",
    "labels_train = np.load(os.path.join(dataset_directory, \"labels_train.npy\"))\n",
    "labels_val = np.load(os.path.join(dataset_directory, \"labels_val.npy\"))\n",
    "labels_test = np.load(os.path.join(dataset_directory, \"labels_test.npy\"))\n",
    "\n",
    "# # Use these to use a memory map to save RAM\n",
    "# fft_dataset_train = np.load(os.path.join(dataset_directory, \"fft_dataset_train.npy\"), mmap_mode=\"r+\")\n",
    "# fft_dataset_val = np.load(os.path.join(dataset_directory, \"fft_dataset_val.npy\"), mmap_mode=\"r+\")\n",
    "# fft_dataset_test = np.load(os.path.join(dataset_directory, \"fft_dataset_test.npy\"), mmap_mode=\"r+\")\n",
    "\n",
    "# labels_train = np.load(os.path.join(dataset_directory, \"labels_train.npy\"), mmap_mode=\"r+\")\n",
    "# labels_val = np.load(os.path.join(dataset_directory, \"labels_val.npy\"), mmap_mode=\"r+\")\n",
    "# labels_test = np.load(os.path.join(dataset_directory, \"labels_test.npy\"), mmap_mode=\"r+\")"
   ]
  },
  {
   "source": [
    "Super crude hyper parameter tuning by creating multiple different models"
   ],
   "cell_type": "markdown",
   "metadata": {}
  },
  {
   "cell_type": "code",
   "execution_count": 3,
   "metadata": {},
   "outputs": [],
   "source": [
    "# Create list of models\n",
    "models = []"
   ]
  },
  {
   "cell_type": "code",
   "execution_count": 4,
   "metadata": {},
   "outputs": [
    {
     "output_type": "stream",
     "name": "stdout",
     "text": [
      "Model: \"snr_10_new_model\"\n_________________________________________________________________\nLayer (type)                 Output Shape              Param #   \n=================================================================\ninput_1 (InputLayer)         [(None, 1024, 1)]         0         \n_________________________________________________________________\nconv1d (Conv1D)              (None, 1022, 64)          256       \n_________________________________________________________________\nconv1d_1 (Conv1D)            (None, 1020, 64)          12352     \n_________________________________________________________________\nbatch_normalization (BatchNo (None, 1020, 64)          256       \n_________________________________________________________________\nmax_pooling1d (MaxPooling1D) (None, 510, 64)           0         \n_________________________________________________________________\nconv1d_2 (Conv1D)            (None, 508, 64)           12352     \n_________________________________________________________________\nconv1d_3 (Conv1D)            (None, 506, 64)           12352     \n_________________________________________________________________\nbatch_normalization_1 (Batch (None, 506, 64)           256       \n_________________________________________________________________\nmax_pooling1d_1 (MaxPooling1 (None, 253, 64)           0         \n_________________________________________________________________\nconv1d_4 (Conv1D)            (None, 251, 64)           12352     \n_________________________________________________________________\nconv1d_5 (Conv1D)            (None, 249, 64)           12352     \n_________________________________________________________________\nbatch_normalization_2 (Batch (None, 249, 64)           256       \n_________________________________________________________________\nmax_pooling1d_2 (MaxPooling1 (None, 124, 64)           0         \n_________________________________________________________________\nconv1d_6 (Conv1D)            (None, 122, 128)          24704     \n_________________________________________________________________\nconv1d_7 (Conv1D)            (None, 120, 128)          49280     \n_________________________________________________________________\nbatch_normalization_3 (Batch (None, 120, 128)          512       \n_________________________________________________________________\nmax_pooling1d_3 (MaxPooling1 (None, 60, 128)           0         \n_________________________________________________________________\nconv1d_8 (Conv1D)            (None, 58, 256)           98560     \n_________________________________________________________________\nconv1d_9 (Conv1D)            (None, 56, 256)           196864    \n_________________________________________________________________\nbatch_normalization_4 (Batch (None, 56, 256)           1024      \n_________________________________________________________________\nmax_pooling1d_4 (MaxPooling1 (None, 28, 256)           0         \n_________________________________________________________________\nconv1d_10 (Conv1D)           (None, 26, 512)           393728    \n_________________________________________________________________\nconv1d_11 (Conv1D)           (None, 24, 512)           786944    \n_________________________________________________________________\nconv1d_12 (Conv1D)           (None, 22, 512)           786944    \n_________________________________________________________________\nbatch_normalization_5 (Batch (None, 22, 512)           2048      \n_________________________________________________________________\nflatten (Flatten)            (None, 11264)             0         \n_________________________________________________________________\ndropout (Dropout)            (None, 11264)             0         \n_________________________________________________________________\ndense (Dense)                (None, 256)               2883840   \n_________________________________________________________________\ndropout_1 (Dropout)          (None, 256)               0         \n_________________________________________________________________\ndense_1 (Dense)              (None, 128)               32896     \n_________________________________________________________________\ndropout_2 (Dropout)          (None, 128)               0         \n_________________________________________________________________\ndense_2 (Dense)              (None, 24)                3096      \n=================================================================\nTotal params: 5,323,224\nTrainable params: 5,321,048\nNon-trainable params: 2,176\n_________________________________________________________________\n"
     ]
    }
   ],
   "source": [
    "# Large model SNR 10\n",
    "inputs = keras.Input(shape=(1024, 1))\n",
    "x = layers.Conv1D(filters=64, kernel_size=3, activation='relu')(inputs)\n",
    "x = layers.Conv1D(filters=64, kernel_size=3, activation='relu')(x)\n",
    "x = layers.BatchNormalization()(x)\n",
    "x = layers.MaxPooling1D(pool_size=2)(x)\n",
    "x = layers.Conv1D(filters=64, kernel_size=3, activation='relu')(x)\n",
    "x = layers.Conv1D(filters=64, kernel_size=3, activation='relu')(x)\n",
    "x = layers.BatchNormalization()(x)\n",
    "x = layers.MaxPooling1D(pool_size=2)(x)\n",
    "x = layers.Conv1D(filters=64, kernel_size=3, activation='relu')(x)\n",
    "x = layers.Conv1D(filters=64, kernel_size=3, activation='relu')(x)\n",
    "x = layers.BatchNormalization()(x)\n",
    "x = layers.MaxPooling1D(pool_size=2)(x)\n",
    "x = layers.Conv1D(filters=128, kernel_size=3, activation='relu')(x)\n",
    "x = layers.Conv1D(filters=128, kernel_size=3, activation='relu')(x)\n",
    "x = layers.BatchNormalization()(x)\n",
    "x = layers.MaxPooling1D(pool_size=2)(x)\n",
    "x = layers.Conv1D(filters=256, kernel_size=3, activation='relu')(x)\n",
    "x = layers.Conv1D(filters=256, kernel_size=3, activation='relu')(x)\n",
    "x = layers.BatchNormalization()(x)\n",
    "x = layers.MaxPooling1D(pool_size=2)(x)\n",
    "x = layers.Conv1D(filters=512, kernel_size=3, activation='relu')(x)\n",
    "x = layers.Conv1D(filters=512, kernel_size=3, activation='relu')(x)\n",
    "x = layers.Conv1D(filters=512, kernel_size=3, activation='relu')(x)\n",
    "x = layers.BatchNormalization()(x)\n",
    "x = layers.Flatten()(x)\n",
    "x = layers.Dropout(0.25)(x)\n",
    "x = layers.Dense(256)(x)\n",
    "x = layers.Dropout(0.25)(x)\n",
    "x = layers.Dense(128)(x)\n",
    "x = layers.Dropout(0.25)(x)\n",
    "outputs = layers.Dense(24, activation='softmax')(x)\n",
    "\n",
    "models.append(keras.Model(inputs=inputs, outputs=outputs, name = \"snr_10_new_model\"))\n",
    "\n",
    "models[-1].summary()"
   ]
  },
  {
   "cell_type": "code",
   "execution_count": 5,
   "metadata": {},
   "outputs": [],
   "source": [
    "# Create list of optimizers to use\n",
    "optimizers = [keras.optimizers.RMSprop(learning_rate=0.005, momentum=0.9)]"
   ]
  },
  {
   "cell_type": "code",
   "execution_count": 6,
   "metadata": {},
   "outputs": [],
   "source": [
    "# # Enable for quick testing\n",
    "# fft_dataset_train = fft_dataset_train[:100]\n",
    "# fft_dataset_val = fft_dataset_val[:100]\n",
    "# fft_dataset_test = fft_dataset_test[:100]\n",
    "\n",
    "# labels_train = labels_train[:100]\n",
    "# labels_val = labels_val[:100]\n",
    "# labels_test = labels_test[:100]"
   ]
  },
  {
   "cell_type": "code",
   "execution_count": 7,
   "metadata": {},
   "outputs": [
    {
     "output_type": "stream",
     "name": "stdout",
     "text": [
      "Epoch 1/100\n",
      "1/1 [==============================] - 4s 4s/step - loss: 5.6222 - accuracy: 0.0600 - val_loss: 101312.5938 - val_accuracy: 0.0700\n",
      "Epoch 2/100\n",
      "1/1 [==============================] - 1s 1s/step - loss: 50.1746 - accuracy: 0.1600 - val_loss: 75303272.0000 - val_accuracy: 0.0200\n",
      "Epoch 3/100\n",
      "1/1 [==============================] - 1s 929ms/step - loss: 546.2011 - accuracy: 0.0300 - val_loss: 1551904768.0000 - val_accuracy: 0.0300\n",
      "Epoch 4/100\n",
      "1/1 [==============================] - 1s 870ms/step - loss: 117.0104 - accuracy: 0.1100 - val_loss: 40148398080.0000 - val_accuracy: 0.0700\n",
      "Epoch 5/100\n",
      "1/1 [==============================] - 1s 872ms/step - loss: 718.3706 - accuracy: 0.1100 - val_loss: 27937492992.0000 - val_accuracy: 0.0700\n",
      "Epoch 6/100\n",
      "1/1 [==============================] - 1s 900ms/step - loss: 172.0324 - accuracy: 0.0800 - val_loss: 13932405760.0000 - val_accuracy: 0.0700\n",
      "Epoch 7/100\n",
      "1/1 [==============================] - 1s 887ms/step - loss: 259.4644 - accuracy: 0.1100 - val_loss: 14928601088.0000 - val_accuracy: 0.0200\n",
      "Epoch 8/100\n",
      "1/1 [==============================] - 1s 913ms/step - loss: 731.8932 - accuracy: 0.0600 - val_loss: 11672530944.0000 - val_accuracy: 0.0200\n",
      "Epoch 9/100\n",
      "1/1 [==============================] - 1s 901ms/step - loss: 969.8383 - accuracy: 0.0800 - val_loss: 116609933312.0000 - val_accuracy: 0.0200\n",
      "Epoch 10/100\n",
      "1/1 [==============================] - 1s 913ms/step - loss: 819.3086 - accuracy: 0.0700 - val_loss: 7677230592.0000 - val_accuracy: 0.0700\n",
      "Epoch 11/100\n",
      "1/1 [==============================] - 1s 974ms/step - loss: 700.4039 - accuracy: 0.1000 - val_loss: 4356360192.0000 - val_accuracy: 0.0700\n",
      "Restoring model weights from the end of the best epoch.\n",
      "Epoch 00011: early stopping\n",
      "4/4 [==============================] - 0s 30ms/step - loss: 107515.2969 - accuracy: 0.0300\n",
      "--- Model trained in 14.073386907577515 seconds ---\n"
     ]
    }
   ],
   "source": [
    "for optimizer in optimizers:\n",
    "    for model in models:\n",
    "        # Time the time it takes to train the model\n",
    "        start = time.time()\n",
    "        \n",
    "        # Compile model\n",
    "        model.compile(loss='categorical_crossentropy', optimizer=optimizer, metrics=['accuracy'])\n",
    "\n",
    "        # Define the callbacks and save the best model to a new file\n",
    "        callbacks = [keras.callbacks.ModelCheckpoint(filepath=f'models/{model.name}.keras', save_best_only=True, monitor='val_loss'), \n",
    "            keras.callbacks.EarlyStopping(monitor=\"val_loss\", min_delta = 0.002, patience = 10, verbose = 1, restore_best_weights = True)]\n",
    "        # Train model\n",
    "        history = model.fit(fft_dataset_train, labels_train, epochs=100, batch_size = 256, validation_data = (fft_dataset_val, labels_val), callbacks=callbacks)\n",
    "\n",
    "        # Save pickle of history\n",
    "        with open(f\"models/{model.name}.pickle\", mode='wb') as f:\n",
    "            pickle.dump(history.history, f)\n",
    "\n",
    "        # Evaluate model\n",
    "        _, accuracy = model.evaluate(fft_dataset_test, labels_test)\n",
    "\n",
    "        print(\"--- Model trained in %s seconds ---\" % (time.time() - start))\n",
    "\n",
    "        # Write accuracy to file\n",
    "        f = open(\"models/accuracy_log.txt\", \"a\")\n",
    "        f.write(f\"Model {model.name} evaluated an accuracy of {accuracy}.\\n\")\n",
    "        f.write(f\"Model {model.name} trained in {int(time.time() - start)} seconds.\\n\\n\")\n",
    "        f.close()"
   ]
  }
 ]
}