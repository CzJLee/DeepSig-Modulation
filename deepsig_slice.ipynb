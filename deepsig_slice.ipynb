{
  "nbformat": 4,
  "nbformat_minor": 0,
  "metadata": {
    "language_info": {
      "codemirror_mode": {
        "name": "ipython",
        "version": 3
      },
      "file_extension": ".py",
      "mimetype": "text/x-python",
      "name": "python",
      "nbconvert_exporter": "python",
      "pygments_lexer": "ipython3",
      "version": "3.8.10"
    },
    "orig_nbformat": 2,
    "kernelspec": {
      "name": "python3810jvsc74a57bd07e85ec9bf098c5427e45e2f632dcd4eeff803b007e1abd287d600879388709c1",
      "display_name": "Python 3.8.10 64-bit"
    },
    "metadata": {
      "interpreter": {
        "hash": "7e85ec9bf098c5427e45e2f632dcd4eeff803b007e1abd287d600879388709c1"
      }
    },
    "colab": {
      "name": "deepsig_slice.ipynb",
      "provenance": []
    }
  },
  "cells": [
    {
      "cell_type": "code",
      "metadata": {
        "id": "otHfmEAcr_Hx"
      },
      "source": [
        "import h5py\n",
        "import os\n",
        "import numpy as np\n",
        "import signal_processing as sp\n",
        "import matplotlib.pyplot as plt\n",
        "import time\n",
        "import sklearn\n",
        "from tensorflow import keras\n",
        "from tensorflow.keras import layers\n",
        "from fastprogress.fastprogress import progress_bar\n",
        "from sys import getsizeof"
      ],
      "execution_count": null,
      "outputs": []
    },
    {
      "cell_type": "code",
      "metadata": {
        "id": "mwByayI1r_Hz",
        "outputId": "7d244137-0470-4039-f5e5-1c6e2557b6a3"
      },
      "source": [
        "# Get location of DEEPSIG DATASET: RADIOML 2018.01A dataset\n",
        "current_working_directory = os.getcwd()\n",
        "file_name = os.path.join(current_working_directory, \"DeepSig-Dataset-2018/GOLD_XYZ_OSC.0001_1024.hdf5\")\n",
        "\n",
        "# Load File\n",
        "start = time.time()\n",
        "print(\"Loading dataset...\")\n",
        "f = h5py.File(file_name, 'r')\n",
        "\n",
        "# Get the dataset from each key \n",
        "x = f[\"X\"] # Dataset\n",
        "y = f[\"Y\"] # Labels\n",
        "z = f[\"Z\"] # SNR Value\n",
        "\n",
        "print(f\"Dataset loaded in {time.time() - start:.6f} seconds.\")"
      ],
      "execution_count": null,
      "outputs": [
        {
          "output_type": "stream",
          "text": [
            "Loading dataset...\n",
            "Dataset loaded in 0.016124 seconds.\n"
          ],
          "name": "stdout"
        }
      ]
    },
    {
      "cell_type": "code",
      "metadata": {
        "id": "c07pDTb0r_H0",
        "outputId": "17b92f5c-f22c-42c7-ee21-07d4b5f635e5"
      },
      "source": [
        "# It is significantly faster to reshape an array than to concatenate multiple arrays. \n",
        "# Start be creating an empty array of a known size, where the first axis is the slices of the dataset we are keeping\n",
        "# Then reassign the elements of this empty array to be the slices of the larger array\n",
        "# Finally, reshape the array to the final shape\n",
        "\n",
        "print(\"Slicing dataset with SNR >= 0\")\n",
        "start = time.time()\n",
        "\n",
        "# For our dataset, x, we want to pick out the data where the SNR is greater than or equal to zero\n",
        "# There are 65,536 such samples for each of the 24 modulation types\n",
        "# The datatype of the X dataset is float32. This is important.\n",
        "# While the original datatype of Y is int64, use int16 to save a tiny bit of memory.\n",
        "dataset_slices = np.empty((24, 65536, 1024, 2), dtype=np.float32)\n",
        "labels_slices = np.empty((24, 65536, 24), dtype = np.int16)\n",
        "\n",
        "# We can then iterate over each of the modulation types\n",
        "# The numbers used in these are specifically chosen to pick out only SNR >= 0 values. \n",
        "for i in progress_bar(range(24)):\n",
        "    n = 106496\n",
        "    start = 40960+n*i\n",
        "    end = 106496+n*i\n",
        "    dataset_slices[i] = x[start:end]\n",
        "    labels_slices[i] = y[start:end]\n",
        "\n",
        "# We can then reshape this array to the final shape, which is signfically faster than concatenation\n",
        "dataset = np.reshape(dataset_slices, (1572864, 1024, 2))\n",
        "labels = np.reshape(labels_slices, (1572864, 24))\n",
        "\n",
        "# Remove slices from memory\n",
        "del dataset_slices\n",
        "del labels_slices\n",
        "\n",
        "print(f\"Datasets created in {time.time() - start:.6f} seconds.\")\n",
        "\n",
        "# For fun, I timed the process of this method versus the old method using concatenation, and it is about 3 times faster. Plus, we get to see the progress, whereas concatenation just runs with no progress indicators. Reshaping is nearly instant. "
      ],
      "execution_count": null,
      "outputs": [
        {
          "output_type": "stream",
          "text": [
            "Slicing dataset with SNR >= 0\n"
          ],
          "name": "stdout"
        },
        {
          "output_type": "display_data",
          "data": {
            "text/plain": [
              "<IPython.core.display.HTML object>"
            ],
            "text/html": [
              "\n",
              "    <div>\n",
              "        <style>\n",
              "            /* Turns off some styling */\n",
              "            progress {\n",
              "                /* gets rid of default border in Firefox and Opera. */\n",
              "                border: none;\n",
              "                /* Needs to be in here for Safari polyfill so background images work as expected. */\n",
              "                background-size: auto;\n",
              "            }\n",
              "            .progress-bar-interrupted, .progress-bar-interrupted::-webkit-progress-bar {\n",
              "                background: #F44336;\n",
              "            }\n",
              "        </style>\n",
              "      <progress value='24' class='' max='24' style='width:300px; height:20px; vertical-align: middle;'></progress>\n",
              "      100.00% [24/24 00:19<00:00]\n",
              "    </div>\n",
              "    "
            ]
          },
          "metadata": {
            "tags": []
          }
        }
      ]
    },
    {
      "cell_type": "code",
      "metadata": {
        "id": "lTmisnxwr_H1",
        "outputId": "337a5196-526c-462b-b276-80fb5b84aee2"
      },
      "source": [
        "# The next step is to convert our dataset to complex values.\n",
        "# We can use our empty dataset method to speed things up to avoid concatenation\n",
        "print(\"Converting dataset to complex values...\")\n",
        "start = time.time()\n",
        "\n",
        "dataset_complex = np.empty((len(dataset), 1024), dtype = np.complex64)\n",
        "for i in progress_bar(range(len(dataset))):\n",
        "    # Flatten the dataset, to be in I/Q format that our signal_to_complex function expects\n",
        "    dataset_complex[i] = sp.signal_to_complex(np.reshape(dataset[i], (-1, )))\n",
        "\n",
        "print(f\"Converted dataset to complex values in {time.time() - start:.6f} seconds.\")\n",
        "\n",
        "# We can then remove the original dataset from memory to save precious memory\n",
        "del dataset"
      ],
      "execution_count": null,
      "outputs": [
        {
          "output_type": "stream",
          "text": [
            "Converting dataset to complex values...\n"
          ],
          "name": "stdout"
        },
        {
          "output_type": "display_data",
          "data": {
            "text/plain": [
              "<IPython.core.display.HTML object>"
            ],
            "text/html": [
              "\n",
              "    <div>\n",
              "        <style>\n",
              "            /* Turns off some styling */\n",
              "            progress {\n",
              "                /* gets rid of default border in Firefox and Opera. */\n",
              "                border: none;\n",
              "                /* Needs to be in here for Safari polyfill so background images work as expected. */\n",
              "                background-size: auto;\n",
              "            }\n",
              "            .progress-bar-interrupted, .progress-bar-interrupted::-webkit-progress-bar {\n",
              "                background: #F44336;\n",
              "            }\n",
              "        </style>\n",
              "      <progress value='0' class='' max='1572864' style='width:300px; height:20px; vertical-align: middle;'></progress>\n",
              "      \n",
              "    </div>\n",
              "    "
            ]
          },
          "metadata": {
            "tags": []
          }
        },
        {
          "output_type": "stream",
          "text": [
            "Converted dataset to complex values in 71.715005 seconds.\n"
          ],
          "name": "stdout"
        }
      ]
    },
    {
      "cell_type": "code",
      "metadata": {
        "id": "wKkqnUrcr_H1",
        "outputId": "edfbffa0-469a-4f2d-a63d-ef5eecc0bbf6"
      },
      "source": [
        "# Now we need to take a FFT of the complex dataset\n",
        "print(\"Calculating FFT of dataset...\")\n",
        "start = time.time()\n",
        "\n",
        "fft_dataset = np.empty((len(dataset_complex), 1024), dtype = np.float64)\n",
        "for i in progress_bar(range(len(dataset_complex))):\n",
        "    fft_dataset[i] = sp.fft_signal(dataset_complex[i])\n",
        "\n",
        "print(f\"Completed FFT calculaations in {time.time() - start:.6f} seconds.\")\n",
        "\n",
        "# Remove the complex dataset from memory\n",
        "del dataset_complex"
      ],
      "execution_count": null,
      "outputs": [
        {
          "output_type": "stream",
          "text": [
            "Calculating FFT of dataset...\n"
          ],
          "name": "stdout"
        },
        {
          "output_type": "display_data",
          "data": {
            "text/plain": [
              "<IPython.core.display.HTML object>"
            ],
            "text/html": [
              "\n",
              "    <div>\n",
              "        <style>\n",
              "            /* Turns off some styling */\n",
              "            progress {\n",
              "                /* gets rid of default border in Firefox and Opera. */\n",
              "                border: none;\n",
              "                /* Needs to be in here for Safari polyfill so background images work as expected. */\n",
              "                background-size: auto;\n",
              "            }\n",
              "            .progress-bar-interrupted, .progress-bar-interrupted::-webkit-progress-bar {\n",
              "                background: #F44336;\n",
              "            }\n",
              "        </style>\n",
              "      <progress value='1572864' class='' max='1572864' style='width:300px; height:20px; vertical-align: middle;'></progress>\n",
              "      100.00% [1572864/1572864 03:25<00:00]\n",
              "    </div>\n",
              "    "
            ]
          },
          "metadata": {
            "tags": []
          }
        }
      ]
    },
    {
      "cell_type": "code",
      "metadata": {
        "id": "TYBOchEXr_H1"
      },
      "source": [
        "# Dummy model\n",
        "\n",
        "model = keras.Sequential([\n",
        "    layers.Dense(64, activation='relu'),\n",
        "    layers.Dense(24, activation='softmax')\n",
        "])"
      ],
      "execution_count": null,
      "outputs": []
    },
    {
      "cell_type": "code",
      "metadata": {
        "id": "-pG_mBYEr_H2",
        "outputId": "19af9a60-18ff-4f17-dc30-e7aceaf89195"
      },
      "source": [
        "# Compile the model\n",
        "model.compile(loss='categorical_crossentropy',\n",
        "              optimizer='rmsprop',\n",
        "              metrics=['accuracy'])\n",
        "\n",
        "model.build(input_shape=(None, 1024))\n",
        "model.summary()"
      ],
      "execution_count": null,
      "outputs": [
        {
          "output_type": "stream",
          "text": [
            "Model: \"sequential\"\n",
            "_________________________________________________________________\n",
            "Layer (type)                 Output Shape              Param #   \n",
            "=================================================================\n",
            "dense (Dense)                (None, 64)                65600     \n",
            "_________________________________________________________________\n",
            "dense_1 (Dense)              (None, 24)                1560      \n",
            "=================================================================\n",
            "Total params: 67,160\n",
            "Trainable params: 67,160\n",
            "Non-trainable params: 0\n",
            "_________________________________________________________________\n"
          ],
          "name": "stdout"
        }
      ]
    },
    {
      "cell_type": "code",
      "metadata": {
        "id": "Psx2BkPxr_H2",
        "outputId": "363d49c0-148a-4905-8657-04dc66880390"
      },
      "source": [
        "history = model.fit(fft_dataset, labels, epochs=1, batch_size=256, validation_split=0.3)"
      ],
      "execution_count": null,
      "outputs": [
        {
          "output_type": "stream",
          "text": [
            "4301/4301 [==============================] - 36s 8ms/step - loss: 3.2505 - accuracy: 0.0592 - val_loss: 7.6937 - val_accuracy: 0.0000e+00\n"
          ],
          "name": "stdout"
        }
      ]
    },
    {
      "cell_type": "code",
      "metadata": {
        "id": "N-628E0Nr_H2",
        "outputId": "3e869453-0f04-4cab-9817-ea2bcb0c70f8"
      },
      "source": [
        "shuffler = np.random.permutation(len(labels))\n",
        "shuffler"
      ],
      "execution_count": null,
      "outputs": [
        {
          "output_type": "execute_result",
          "data": {
            "text/plain": [
              "array([1199007,  656258, 1036552, ...,  795744, 1376078, 1142829])"
            ]
          },
          "metadata": {
            "tags": []
          },
          "execution_count": 19
        }
      ]
    },
    {
      "cell_type": "code",
      "metadata": {
        "id": "txwpdFPmr_H2"
      },
      "source": [
        "fft_dataset_shuffled = np.empty(shape = np.shape(fft_dataset), dtype = fft_dataset.dtype)\n",
        "for i, j in enumerate(progress_bar(shuffler)):\n",
        "    fft_dataset_shuffled[i] = fft_dataset[j]"
      ],
      "execution_count": null,
      "outputs": []
    }
  ]
}